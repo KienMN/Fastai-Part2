{
 "cells": [
  {
   "cell_type": "markdown",
   "metadata": {},
   "source": [
    "# ULMFit"
   ]
  },
  {
   "cell_type": "code",
   "execution_count": 1,
   "metadata": {},
   "outputs": [],
   "source": [
    "%load_ext autoreload\n",
    "%autoreload 2"
   ]
  },
  {
   "cell_type": "code",
   "execution_count": 2,
   "metadata": {},
   "outputs": [],
   "source": [
    "#export\n",
    "from exp.nb_12a import *"
   ]
  },
  {
   "cell_type": "markdown",
   "metadata": {},
   "source": [
    "## Data\n",
    "We load the data from 12a, instructions to create that file are there if you don't have it yet so go ahead and see."
   ]
  },
  {
   "cell_type": "code",
   "execution_count": 3,
   "metadata": {},
   "outputs": [],
   "source": [
    "path = untar_data(URLs.IMDB)"
   ]
  },
  {
   "cell_type": "code",
   "execution_count": 4,
   "metadata": {},
   "outputs": [],
   "source": [
    "ll = pickle.load(open(path/'ll_lm.pkl', 'rb'))"
   ]
  },
  {
   "cell_type": "code",
   "execution_count": 5,
   "metadata": {},
   "outputs": [],
   "source": [
    "bs, bptt = 128, 70\n",
    "data = lm_databunchify(ll, bs, bptt)"
   ]
  },
  {
   "cell_type": "code",
   "execution_count": 6,
   "metadata": {},
   "outputs": [],
   "source": [
    "vocab = ll.train.proc_x[1].vocab"
   ]
  },
  {
   "cell_type": "markdown",
   "metadata": {},
   "source": [
    "## Finetuning the LM"
   ]
  },
  {
   "cell_type": "markdown",
   "metadata": {},
   "source": [
    "Before tackling the classification task, we have to finetune our language model to the IMDB corpus.\n",
    "\n",
    "We have pretrained a small model on [wikitext 103](https://blog.einstein.ai/the-wikitext-long-term-dependency-language-modeling-dataset/) that you can download by uncommenting the following cell."
   ]
  },
  {
   "cell_type": "code",
   "execution_count": 9,
   "metadata": {},
   "outputs": [
    {
     "name": "stdout",
     "output_type": "stream",
     "text": [
      "--2021-01-11 16:57:51--  http://files.fast.ai/models/wt103_tiny.tgz\n",
      "Resolving files.fast.ai (files.fast.ai)... 104.26.3.19, 172.67.69.159, 104.26.2.19, ...\n",
      "Connecting to files.fast.ai (files.fast.ai)|104.26.3.19|:80... connected.\n",
      "HTTP request sent, awaiting response... 301 Moved Permanently\n",
      "Location: https://files.fast.ai/models/wt103_tiny.tgz [following]\n",
      "--2021-01-11 16:57:51--  https://files.fast.ai/models/wt103_tiny.tgz\n",
      "Connecting to files.fast.ai (files.fast.ai)|104.26.3.19|:443... connected.\n",
      "HTTP request sent, awaiting response... 200 OK\n",
      "Length: 75482451 (72M) [application/x-gtar-compressed]\n",
      "Saving to: ‘/home/kienmn/.fastai/data/imdb/wt103_tiny.tgz’\n",
      "\n",
      "wt103_tiny.tgz      100%[===================>]  71.99M  8.36MB/s    in 11s     \n",
      "\n",
      "2021-01-11 16:58:03 (6.80 MB/s) - ‘/home/kienmn/.fastai/data/imdb/wt103_tiny.tgz’ saved [75482451/75482451]\n",
      "\n"
     ]
    }
   ],
   "source": [
    "# ! wget http://files.fast.ai/models/wt103_tiny.tgz -P {path}\n",
    "# ! tar xf {path}/wt103_tiny.tgz -C {path}"
   ]
  },
  {
   "cell_type": "code",
   "execution_count": 7,
   "metadata": {},
   "outputs": [],
   "source": [
    "dps = tensor([0.1, 0.15, 0.25, 0.02, 0.2]) * 0.5\n",
    "tok_pad = None"
   ]
  },
  {
   "cell_type": "code",
   "execution_count": 8,
   "metadata": {},
   "outputs": [],
   "source": [
    "emb_sz = 300\n",
    "nh = 300\n",
    "nl = 2\n",
    "\n",
    "model = get_language_model(len(vocab), emb_sz, nh, nl, tok_pad, *dps)"
   ]
  },
  {
   "cell_type": "code",
   "execution_count": 9,
   "metadata": {},
   "outputs": [],
   "source": [
    "old_wgts = torch.load(path/'pretrained'/'pretrained.pth')\n",
    "old_vocab = pickle.load(open(path/'pretrained'/'vocab.pkl', 'rb'))"
   ]
  },
  {
   "cell_type": "markdown",
   "metadata": {},
   "source": [
    "In our current vocabulary, it is very unlikely that the ids correspond to what is in the vocabulary used to train the pretrain model. The tokens are sorted by frequency (apart from the special tokens that are all first) so that order is specific to the corpus used. For instance, the word 'house' has different ids in the our current vocab and the pretrained one."
   ]
  },
  {
   "cell_type": "code",
   "execution_count": 10,
   "metadata": {},
   "outputs": [
    {
     "data": {
      "text/plain": [
       "(346, 230)"
      ]
     },
     "execution_count": 10,
     "metadata": {},
     "output_type": "execute_result"
    }
   ],
   "source": [
    "idx_house_new = vocab.index('house')\n",
    "idx_house_old = old_vocab.index('house')\n",
    "idx_house_new, idx_house_old"
   ]
  },
  {
   "cell_type": "markdown",
   "metadata": {},
   "source": [
    "We somehow need to match our pretrained weights to the new vocabulary. This is done on the embeddings and the decoder (since the weights between embeddings and decoders are tied) by putting the rows of the embedding matrix (or decoder bias) in the right order.\n",
    "\n",
    "It may also happen that we have words that aren't in the pretrained vocab, in this case, we put the mean of the pretrained embedding weights/decoder bias."
   ]
  },
  {
   "cell_type": "code",
   "execution_count": 11,
   "metadata": {},
   "outputs": [
    {
     "data": {
      "text/plain": [
       "(tensor([ 0.5988, -0.4527,  0.8066, -0.2093,  0.5364, -0.2562, -0.1074, -0.2474,\n",
       "         -0.0443,  0.4125,  0.3041, -0.5933,  0.2584, -1.1307, -0.0084,  0.4959,\n",
       "         -1.1690,  0.1582, -0.2717,  0.6158, -0.4010,  0.0649,  0.5288, -0.6920,\n",
       "         -0.2388,  0.9043, -0.6893, -0.3944,  0.6451,  0.1307,  0.8242, -0.3747,\n",
       "         -0.0605, -0.3505,  0.0585,  0.4384,  0.1829, -1.3258,  0.3452,  0.1210,\n",
       "          0.0926, -0.4796,  0.0763,  0.0323,  1.2245,  0.0214, -0.0185,  1.5935,\n",
       "          0.7886, -0.3294, -1.6719, -0.2423, -0.3912, -0.0162,  0.8889, -0.0771,\n",
       "          0.4504, -0.2190, -0.3146, -0.2552,  0.4464, -0.0984, -0.6560,  1.1554,\n",
       "         -0.1786,  0.6311, -0.4426, -0.5250,  0.6636, -0.9760, -0.5825, -0.7320,\n",
       "          0.3024, -0.2079,  0.4503, -0.2514,  0.1670,  0.8837, -0.2960, -0.2962,\n",
       "          0.7779, -0.7776,  0.7375,  0.5516, -0.3084, -0.6680, -0.7311, -0.3653,\n",
       "         -0.1539,  0.4493, -0.3127, -0.4654, -0.7501,  0.6402, -0.6743, -0.3092,\n",
       "          0.8462, -0.5794, -1.6026, -0.0673, -0.0028, -0.4091, -0.6630,  0.5489,\n",
       "         -0.0224, -1.0997, -0.3850, -0.2057, -1.0552,  0.1979,  0.3648, -0.1969,\n",
       "         -0.5266,  0.3952, -0.6582,  0.5963, -0.2596, -0.5563,  0.4512,  0.6934,\n",
       "         -0.1761,  0.9534,  0.7107, -0.0302, -1.4361,  0.0626,  0.3528, -1.7840,\n",
       "          0.6761, -0.2191,  1.0311, -0.1250, -0.3636,  0.0546,  0.0802,  0.1663,\n",
       "         -0.2855,  0.4556, -0.2920, -0.5610, -0.4718, -0.1426, -0.0700,  0.1103,\n",
       "          0.4322, -1.3928,  0.2852,  0.6364, -0.0508, -0.5159, -0.6554, -0.7715,\n",
       "         -0.4355, -0.7710,  0.2624, -0.0682,  0.9516,  0.3941, -0.8598, -0.1267,\n",
       "          0.0291, -0.6975,  0.2580,  0.8657,  1.1679, -0.1634,  0.5937,  0.6517,\n",
       "         -0.6538,  0.8038, -0.0715, -0.4618, -0.4797, -0.5839, -0.2057,  0.6380,\n",
       "          0.9977, -0.1455,  0.4989,  0.4910, -0.0975,  0.4770, -0.6713,  0.7187,\n",
       "          0.0626,  0.1494,  0.3357,  0.8619,  1.1849, -1.1762, -0.0971, -0.2381,\n",
       "          0.3083,  0.5021, -0.3440,  0.0334,  0.4887, -1.7263,  0.2183,  0.9675,\n",
       "         -0.8097,  0.7996, -0.1147, -0.2337,  0.1370, -0.2817, -0.5580, -0.2561,\n",
       "          1.1037, -0.1269, -0.1193,  0.9299, -0.5974, -0.4283, -1.7780, -0.0060,\n",
       "          0.4267,  0.0734,  0.3947,  0.4975,  0.7270, -0.7078, -0.1071,  0.8271,\n",
       "          0.0737,  0.7248, -0.1854,  0.6739,  0.8150,  0.0900,  0.7474,  0.2052,\n",
       "          0.0972,  0.1905, -0.5695,  1.1292, -0.4866,  0.1853,  0.8667, -0.0930,\n",
       "          0.9869,  0.1754, -0.7324,  0.8577, -1.1115,  0.1356, -0.5849, -0.9565,\n",
       "         -0.2480,  0.7102, -0.1821, -0.7814, -0.0378, -0.8175, -0.0542, -0.1815,\n",
       "          0.9242,  1.0954, -0.8369,  0.3103, -0.4025, -1.4256, -0.5327, -0.2339,\n",
       "          0.1174,  0.1932,  0.5497,  0.3206,  0.5294, -0.0678,  0.0981, -0.5706,\n",
       "         -0.3166,  0.3431,  0.5386,  0.7172, -0.0257,  0.1098,  0.2202, -0.1734,\n",
       "          0.0639, -0.5051, -0.5268,  0.1964, -0.8846, -0.0834,  0.7170, -1.3899,\n",
       "          0.0929,  0.3462, -0.5904,  0.2216,  0.4330, -0.2521, -1.2281,  0.3254,\n",
       "          0.7702, -0.2821,  0.3644, -0.1224], device='cuda:0'),\n",
       " tensor(0.1079, device='cuda:0'))"
      ]
     },
     "execution_count": 11,
     "metadata": {},
     "output_type": "execute_result"
    }
   ],
   "source": [
    "house_wgt = old_wgts['0.emb.weight'][idx_house_old]\n",
    "house_bias = old_wgts['1.decoder.bias'][idx_house_old]\n",
    "house_wgt, house_bias"
   ]
  },
  {
   "cell_type": "code",
   "execution_count": 12,
   "metadata": {},
   "outputs": [],
   "source": [
    "def match_embeds(old_wgts, old_vocab, new_vocab):\n",
    "  wgts = old_wgts['0.emb.weight']\n",
    "  bias = old_wgts['1.decoder.bias']\n",
    "  wgts_m = wgts.mean(dim=0)\n",
    "  bias_m = bias.mean()\n",
    "  new_wgts = wgts.new_zeros(len(new_vocab), wgts.size(1))\n",
    "  new_bias = bias.new_zeros(len(new_vocab))\n",
    "  otoi = {v: k for k, v in enumerate(old_vocab)}\n",
    "  for i, w in enumerate(new_vocab):\n",
    "    if w in otoi:\n",
    "      idx = otoi[w]\n",
    "      new_wgts[i] = wgts[idx]\n",
    "      new_bias[i] = bias[idx]\n",
    "    else:\n",
    "      new_wgts[i] = wgts_m\n",
    "      new_bias[i] = bias_m\n",
    "  old_wgts['0.emb.weight'] = new_wgts\n",
    "  old_wgts['0.emb_dp.emb.weight'] = new_wgts\n",
    "  old_wgts['1.decoder.weight'] = new_wgts\n",
    "  old_wgts['1.decoder.bias'] = new_bias\n",
    "  return old_wgts"
   ]
  },
  {
   "cell_type": "code",
   "execution_count": 13,
   "metadata": {},
   "outputs": [],
   "source": [
    "wgts = match_embeds(old_wgts, old_vocab, vocab)"
   ]
  },
  {
   "cell_type": "markdown",
   "metadata": {},
   "source": [
    "Now let's check that the word \"*house*\" was properly converted."
   ]
  },
  {
   "cell_type": "code",
   "execution_count": 14,
   "metadata": {},
   "outputs": [],
   "source": [
    "test_near(wgts['0.emb.weight'][idx_house_new], house_wgt)\n",
    "test_near(wgts['1.decoder.bias'][idx_house_new], house_bias)"
   ]
  },
  {
   "cell_type": "markdown",
   "metadata": {},
   "source": [
    "We can load the pretrained weights in our model before begining training."
   ]
  },
  {
   "cell_type": "code",
   "execution_count": 15,
   "metadata": {},
   "outputs": [
    {
     "data": {
      "text/plain": [
       "<All keys matched successfully>"
      ]
     },
     "execution_count": 15,
     "metadata": {},
     "output_type": "execute_result"
    }
   ],
   "source": [
    "model.load_state_dict(wgts)"
   ]
  },
  {
   "cell_type": "markdown",
   "metadata": {},
   "source": [
    "If we want to apply discriminative learning rates, we need to split our model in different layer groups. Let's have a look at our model."
   ]
  },
  {
   "cell_type": "code",
   "execution_count": 16,
   "metadata": {},
   "outputs": [
    {
     "data": {
      "text/plain": [
       "SequentialRNN(\n",
       "  (0): AWD_LSTM(\n",
       "    (emb): Embedding(60003, 300)\n",
       "    (emb_dp): EmbeddingDropout(\n",
       "      (emb): Embedding(60003, 300)\n",
       "    )\n",
       "    (rnns): ModuleList(\n",
       "      (0): WeightDropout(\n",
       "        (module): LSTM(300, 300, batch_first=True)\n",
       "      )\n",
       "      (1): WeightDropout(\n",
       "        (module): LSTM(300, 300, batch_first=True)\n",
       "      )\n",
       "    )\n",
       "    (input_dp): RNNDropout()\n",
       "    (hidden_dps): ModuleList(\n",
       "      (0): RNNDropout()\n",
       "      (1): RNNDropout()\n",
       "    )\n",
       "  )\n",
       "  (1): LinearDecoder(\n",
       "    (output_dp): RNNDropout()\n",
       "    (decoder): Linear(in_features=300, out_features=60003, bias=True)\n",
       "  )\n",
       ")"
      ]
     },
     "execution_count": 16,
     "metadata": {},
     "output_type": "execute_result"
    }
   ],
   "source": [
    "model"
   ]
  },
  {
   "cell_type": "markdown",
   "metadata": {},
   "source": [
    "Then we split by doing two groups for each rnn/corresponding dropout, then one last group that contains the embeddings/decoder. This is the one that needs to be trained the most as we may have new embeddings vectors."
   ]
  },
  {
   "cell_type": "code",
   "execution_count": 17,
   "metadata": {},
   "outputs": [],
   "source": [
    "def lm_splitter(m):\n",
    "  groups = []\n",
    "  for i in range(len(m[0].rnns)):\n",
    "    groups.append(nn.Sequential(m[0].rnns[i], m[0].hidden_dps[i]))\n",
    "  groups += [nn.Sequential(m[0].emb, m[0].emb_dp, m[0].input_dp, m[1])]\n",
    "  return [list(o.parameters()) for o in groups]"
   ]
  },
  {
   "cell_type": "markdown",
   "metadata": {},
   "source": [
    "First we train with the RNNs freezed."
   ]
  },
  {
   "cell_type": "code",
   "execution_count": 18,
   "metadata": {},
   "outputs": [],
   "source": [
    "for rnn in model[0].rnns:\n",
    "  for p in rnn.parameters():\n",
    "    p.requires_grad_(False)"
   ]
  },
  {
   "cell_type": "code",
   "execution_count": 19,
   "metadata": {},
   "outputs": [],
   "source": [
    "device = torch.device('cuda', 0) if torch.cuda.is_available else torch.device('cpu')\n",
    "\n",
    "cbs = [partial(AvgStatsCallback, accuracy_flat),\n",
    "       partial(CudaCallback, device=device),\n",
    "       Recorder,\n",
    "       partial(GradientClipping, clip=0.1),\n",
    "       partial(RNNTrainer, α=2., β=1.),\n",
    "       ProgressCallback]"
   ]
  },
  {
   "cell_type": "code",
   "execution_count": 20,
   "metadata": {},
   "outputs": [],
   "source": [
    "learn = Learner(model, data, cross_entropy_flat, opt_func=adam_opt(), cb_funcs=cbs, splitter=lm_splitter)"
   ]
  },
  {
   "cell_type": "code",
   "execution_count": 21,
   "metadata": {},
   "outputs": [],
   "source": [
    "lr = 2e-2\n",
    "cbsched = sched_1cycle([lr], pct_start=0.5, mom_start=0.8, mom_mid=0.7, mom_end=0.8)"
   ]
  },
  {
   "cell_type": "code",
   "execution_count": null,
   "metadata": {},
   "outputs": [],
   "source": [
    "learn.fit(1, cbs=cbsched)"
   ]
  },
  {
   "cell_type": "markdown",
   "metadata": {},
   "source": [
    "The the whole model with discriminative learning rates."
   ]
  },
  {
   "cell_type": "code",
   "execution_count": 22,
   "metadata": {},
   "outputs": [],
   "source": [
    "for rnn in model[0].rnns:\n",
    "  for p in rnn.parameters():\n",
    "    p.requires_grad_(True)"
   ]
  },
  {
   "cell_type": "code",
   "execution_count": 23,
   "metadata": {},
   "outputs": [],
   "source": [
    "lr = 2e-3\n",
    "cbsched = sched_1cycle([lr/2., lr/2., lr], pct_start=0.5, mom_start=0.8, mom_mid=0.7, mom_end=0.8)"
   ]
  },
  {
   "cell_type": "code",
   "execution_count": null,
   "metadata": {},
   "outputs": [],
   "source": [
    "learn.fit(10, cbs=cbsched)"
   ]
  },
  {
   "cell_type": "markdown",
   "metadata": {},
   "source": [
    "We only need to save the encoder (first part of the model) for the classification, as well as the vocabulary used (we will need to use the same in the classification task)."
   ]
  },
  {
   "cell_type": "code",
   "execution_count": null,
   "metadata": {},
   "outputs": [],
   "source": [
    "torch.save(learn.model[0].state_dict(), path/'finetuned_enc.pth')"
   ]
  },
  {
   "cell_type": "code",
   "execution_count": 24,
   "metadata": {},
   "outputs": [],
   "source": [
    "pickle.dump(vocab, open(path/'vocab_lm.pkl', 'wb'))"
   ]
  },
  {
   "cell_type": "code",
   "execution_count": null,
   "metadata": {},
   "outputs": [],
   "source": [
    "torch.save(learn.model.state_dict(), path/'funetuned.pth')"
   ]
  },
  {
   "cell_type": "markdown",
   "metadata": {},
   "source": [
    "## Classifier"
   ]
  },
  {
   "cell_type": "code",
   "execution_count": 25,
   "metadata": {},
   "outputs": [],
   "source": [
    "vocab = pickle.load(open(path/'vocab_lm.pkl', 'rb'))\n",
    "proc_tok = TokenizeProcessor()\n",
    "proc_num = NumericalizeProcessor(vocab=vocab)\n",
    "proc_cat = CategoryProcessor()"
   ]
  },
  {
   "cell_type": "code",
   "execution_count": 26,
   "metadata": {},
   "outputs": [
    {
     "data": {
      "text/html": [
       "\n",
       "    <div>\n",
       "        <style>\n",
       "            /* Turns off some styling */\n",
       "            progress {\n",
       "                /* gets rid of default border in Firefox and Opera. */\n",
       "                border: none;\n",
       "                /* Needs to be in here for Safari polyfill so background images work as expected. */\n",
       "                background-size: auto;\n",
       "            }\n",
       "            .progress-bar-interrupted, .progress-bar-interrupted::-webkit-progress-bar {\n",
       "                background: #F44336;\n",
       "            }\n",
       "        </style>\n",
       "      <progress value='13' class='' max='13' style='width:300px; height:20px; vertical-align: middle;'></progress>\n",
       "      100.00% [13/13 00:11<00:00]\n",
       "    </div>\n",
       "    "
      ],
      "text/plain": [
       "<IPython.core.display.HTML object>"
      ]
     },
     "metadata": {},
     "output_type": "display_data"
    },
    {
     "data": {
      "text/html": [
       "\n",
       "    <div>\n",
       "        <style>\n",
       "            /* Turns off some styling */\n",
       "            progress {\n",
       "                /* gets rid of default border in Firefox and Opera. */\n",
       "                border: none;\n",
       "                /* Needs to be in here for Safari polyfill so background images work as expected. */\n",
       "                background-size: auto;\n",
       "            }\n",
       "            .progress-bar-interrupted, .progress-bar-interrupted::-webkit-progress-bar {\n",
       "                background: #F44336;\n",
       "            }\n",
       "        </style>\n",
       "      <progress value='13' class='' max='13' style='width:300px; height:20px; vertical-align: middle;'></progress>\n",
       "      100.00% [13/13 00:11<00:00]\n",
       "    </div>\n",
       "    "
      ],
      "text/plain": [
       "<IPython.core.display.HTML object>"
      ]
     },
     "metadata": {},
     "output_type": "display_data"
    }
   ],
   "source": [
    "il = TextList.from_files(path, include=['train', 'test'])\n",
    "sd = SplitData.split_by_func(il, partial(grandparent_splitter, valid_name='test'))\n",
    "ll = label_by_func(sd, parent_labeler, proc_x=[proc_tok, proc_num], proc_y=proc_cat)"
   ]
  },
  {
   "cell_type": "code",
   "execution_count": 27,
   "metadata": {},
   "outputs": [],
   "source": [
    "pickle.dump(ll, open(path/'ll_class.pkl', 'wb'))"
   ]
  },
  {
   "cell_type": "code",
   "execution_count": 28,
   "metadata": {},
   "outputs": [],
   "source": [
    "ll = pickle.load(open(path/'ll_class.pkl', 'rb'))\n",
    "vocab = pickle.load(open(path/'vocab_lm.pkl', 'rb'))"
   ]
  },
  {
   "cell_type": "code",
   "execution_count": 29,
   "metadata": {},
   "outputs": [],
   "source": [
    "bs, bptt = 64, 70\n",
    "data = clas_databunchify(ll, bs)"
   ]
  },
  {
   "cell_type": "markdown",
   "metadata": {},
   "source": [
    "### Ignore padding\n",
    "We will those two utility functions from PyTorch to ignore the padding in the inputs."
   ]
  },
  {
   "cell_type": "code",
   "execution_count": 30,
   "metadata": {},
   "outputs": [],
   "source": [
    "#export\n",
    "from torch.nn.utils.rnn import pack_padded_sequence, pad_packed_sequence"
   ]
  },
  {
   "cell_type": "markdown",
   "metadata": {},
   "source": [
    "Let's see how this works: first we grab a batch of the training set."
   ]
  },
  {
   "cell_type": "code",
   "execution_count": 31,
   "metadata": {},
   "outputs": [],
   "source": [
    "x, y = next(iter(data.train_dl))"
   ]
  },
  {
   "cell_type": "code",
   "execution_count": 32,
   "metadata": {},
   "outputs": [
    {
     "data": {
      "text/plain": [
       "torch.Size([64, 3311])"
      ]
     },
     "execution_count": 32,
     "metadata": {},
     "output_type": "execute_result"
    }
   ],
   "source": [
    "x.size()"
   ]
  },
  {
   "cell_type": "markdown",
   "metadata": {},
   "source": [
    "We need to pass to the utility functions the lengths of our sentences because it's applied after the embedding, so we can't see the padding anymore."
   ]
  },
  {
   "cell_type": "code",
   "execution_count": 33,
   "metadata": {},
   "outputs": [
    {
     "data": {
      "text/plain": [
       "tensor([3311, 1577, 1481, 1443, 1390])"
      ]
     },
     "execution_count": 33,
     "metadata": {},
     "output_type": "execute_result"
    }
   ],
   "source": [
    "lengths = x.size(1) - (x == 1).sum(1)\n",
    "lengths[:5]"
   ]
  },
  {
   "cell_type": "code",
   "execution_count": 34,
   "metadata": {},
   "outputs": [],
   "source": [
    "tst_emb = nn.Embedding(len(vocab), 300)"
   ]
  },
  {
   "cell_type": "code",
   "execution_count": 35,
   "metadata": {},
   "outputs": [
    {
     "data": {
      "text/plain": [
       "torch.Size([64, 3311, 300])"
      ]
     },
     "execution_count": 35,
     "metadata": {},
     "output_type": "execute_result"
    }
   ],
   "source": [
    "tst_emb(x).shape"
   ]
  },
  {
   "cell_type": "code",
   "execution_count": 36,
   "metadata": {},
   "outputs": [
    {
     "data": {
      "text/plain": [
       "8960"
      ]
     },
     "execution_count": 36,
     "metadata": {},
     "output_type": "execute_result"
    }
   ],
   "source": [
    "128 * 70"
   ]
  },
  {
   "cell_type": "markdown",
   "metadata": {},
   "source": [
    "We create a `PackedSequence` object that contains all of our unpadded sequences"
   ]
  },
  {
   "cell_type": "code",
   "execution_count": 37,
   "metadata": {},
   "outputs": [],
   "source": [
    "packed = pack_padded_sequence(tst_emb(x), lengths, batch_first=True)"
   ]
  },
  {
   "cell_type": "code",
   "execution_count": 38,
   "metadata": {},
   "outputs": [
    {
     "data": {
      "text/plain": [
       "PackedSequence(data=tensor([[-0.5455,  0.7309,  0.1489,  ..., -0.1312,  0.9794,  0.2039],\n",
       "        [-0.5455,  0.7309,  0.1489,  ..., -0.1312,  0.9794,  0.2039],\n",
       "        [-0.5455,  0.7309,  0.1489,  ..., -0.1312,  0.9794,  0.2039],\n",
       "        ...,\n",
       "        [ 0.1935, -0.3665,  1.0036,  ..., -0.3770,  0.5414, -0.8141],\n",
       "        [-0.5708, -1.0967, -0.8068,  ..., -1.1290,  1.3198, -0.4017],\n",
       "        [-1.1747, -0.7042,  0.8974,  ..., -0.2568, -0.8326,  1.3060]],\n",
       "       grad_fn=<PackPaddedSequenceBackward>), batch_sizes=tensor([64, 64, 64,  ...,  1,  1,  1]), sorted_indices=None, unsorted_indices=None)"
      ]
     },
     "execution_count": 38,
     "metadata": {},
     "output_type": "execute_result"
    }
   ],
   "source": [
    "packed"
   ]
  },
  {
   "cell_type": "code",
   "execution_count": 39,
   "metadata": {},
   "outputs": [
    {
     "data": {
      "text/plain": [
       "torch.Size([76136, 300])"
      ]
     },
     "execution_count": 39,
     "metadata": {},
     "output_type": "execute_result"
    }
   ],
   "source": [
    "packed.data.shape"
   ]
  },
  {
   "cell_type": "code",
   "execution_count": 40,
   "metadata": {},
   "outputs": [
    {
     "data": {
      "text/plain": [
       "3311"
      ]
     },
     "execution_count": 40,
     "metadata": {},
     "output_type": "execute_result"
    }
   ],
   "source": [
    "len(packed.batch_sizes)"
   ]
  },
  {
   "cell_type": "code",
   "execution_count": 41,
   "metadata": {},
   "outputs": [
    {
     "data": {
      "text/plain": [
       "128"
      ]
     },
     "execution_count": 41,
     "metadata": {},
     "output_type": "execute_result"
    }
   ],
   "source": [
    "8960 // 70"
   ]
  },
  {
   "cell_type": "markdown",
   "metadata": {},
   "source": [
    "This object can be passed to any RNN directly while retaining the speed of CuDNN."
   ]
  },
  {
   "cell_type": "code",
   "execution_count": 42,
   "metadata": {},
   "outputs": [],
   "source": [
    "tst = nn.LSTM(300, 300, 2)"
   ]
  },
  {
   "cell_type": "code",
   "execution_count": 43,
   "metadata": {},
   "outputs": [],
   "source": [
    "y, h = tst(packed)"
   ]
  },
  {
   "cell_type": "markdown",
   "metadata": {},
   "source": [
    "Then we can unpad it with the following function for other modules:"
   ]
  },
  {
   "cell_type": "code",
   "execution_count": 44,
   "metadata": {},
   "outputs": [],
   "source": [
    "unpack = pad_packed_sequence(y, batch_first=True)"
   ]
  },
  {
   "cell_type": "code",
   "execution_count": 45,
   "metadata": {},
   "outputs": [
    {
     "data": {
      "text/plain": [
       "torch.Size([64, 3311, 300])"
      ]
     },
     "execution_count": 45,
     "metadata": {},
     "output_type": "execute_result"
    }
   ],
   "source": [
    "unpack[0].shape"
   ]
  },
  {
   "cell_type": "code",
   "execution_count": 46,
   "metadata": {},
   "outputs": [
    {
     "data": {
      "text/plain": [
       "tensor([3311, 1577, 1481, 1443, 1390, 1369, 1341, 1336, 1323, 1289, 1284, 1279,\n",
       "        1270, 1267, 1267, 1260, 1260, 1252, 1247, 1244, 1241, 1235, 1214, 1211,\n",
       "        1200, 1191, 1186, 1183, 1180, 1160, 1160, 1151, 1143, 1139, 1137, 1101,\n",
       "        1077, 1073, 1063, 1052, 1049, 1046, 1043, 1042, 1042, 1039, 1033, 1030,\n",
       "        1030, 1027, 1026, 1026, 1020, 1020, 1016, 1016, 1014, 1013, 1012, 1011,\n",
       "        1006, 1001,  994,  993])"
      ]
     },
     "execution_count": 46,
     "metadata": {},
     "output_type": "execute_result"
    }
   ],
   "source": [
    "unpack[1]"
   ]
  },
  {
   "cell_type": "markdown",
   "metadata": {},
   "source": [
    "We need to change our model a little bit to use this."
   ]
  },
  {
   "cell_type": "code",
   "execution_count": 47,
   "metadata": {},
   "outputs": [],
   "source": [
    "#export\n",
    "class AWD_LSTM1(nn.Module):\n",
    "  \"AWD-LSTM inspired by https://arxiv.org/abs/1708.02182.\"\n",
    "  initrange=0.1\n",
    "\n",
    "  def __init__(self,\n",
    "               vocab_sz,\n",
    "               emb_sz,\n",
    "               n_hid,\n",
    "               n_layers,\n",
    "               pad_token,\n",
    "               hidden_p=0.2,\n",
    "               input_p=0.6,\n",
    "               embed_p=0.1,\n",
    "               weight_p=0.5):\n",
    "    super().__init__()\n",
    "    self.bs = 1\n",
    "    self.emb_sz = emb_sz\n",
    "    self.n_hid = n_hid\n",
    "    self.n_layers = n_layers\n",
    "    self.pad_token = pad_token\n",
    "    self.emb = nn.Embedding(vocab_sz, emb_sz, padding_idx=pad_token)\n",
    "    self.emb_dp = EmbeddingDropout(self.emb, embed_p)\n",
    "    self.rnns = [nn.LSTM(emb_sz if l == 0 else n_hid,\n",
    "                         n_hid if l != n_layers - 1 else emb_sz,\n",
    "                         1,\n",
    "                         batch_first=True)\n",
    "                 for l in range(n_layers)]\n",
    "    self.rnns = nn.ModuleList([WeightDropout(rnn, weight_p) for rnn in self.rnns])\n",
    "    self.emb.weight.data.uniform_(-self.initrange, self.initrange)\n",
    "    self.input_dp = RNNDropout(input_p)\n",
    "    self.hidden_dps = nn.ModuleList([RNNDropout(hidden_p) for l in range(n_layers)])\n",
    "\n",
    "  def forward(self, input):\n",
    "    bs, sl = input.size()\n",
    "    mask = (input == self.pad_token)\n",
    "    lengths = sl - mask.long().sum(1)\n",
    "    n_empty = (lengths == 0).sum()\n",
    "    if n_empty > 0:\n",
    "      input = input[:-n_empty]\n",
    "      lengths = lengths[:-n_empty]\n",
    "      self.hidden = [(h[0][:,:input.size(0)], h[1][:,:input.size(0)]) for h in self.hidden]\n",
    "    raw_output = self.input_dp(self.emb_dp(input))\n",
    "    new_hidden,raw_outputs,outputs = [],[],[]\n",
    "    for l, (rnn,hid_dp) in enumerate(zip(self.rnns, self.hidden_dps)):\n",
    "      raw_output = pack_padded_sequence(raw_output, lengths, batch_first=True)\n",
    "      raw_output, new_h = rnn(raw_output, self.hidden[l])\n",
    "      raw_output = pad_packed_sequence(raw_output, batch_first=True)[0]\n",
    "      raw_outputs.append(raw_output)\n",
    "      if l != self.n_layers - 1: raw_output = hid_dp(raw_output)\n",
    "      outputs.append(raw_output)\n",
    "      new_hidden.append(new_h)\n",
    "    self.hidden = to_detach(new_hidden)\n",
    "    return raw_outputs, outputs, mask\n",
    "\n",
    "  def _one_hidden(self, l):\n",
    "    \"Return one hidden state.\"\n",
    "    nh = self.n_hid if l != self.n_layers - 1 else self.emb_sz\n",
    "    return next(self.parameters()).new(1, self.bs, nh).zero_()\n",
    "\n",
    "  def reset(self):\n",
    "    \"Reset the hidden states.\"\n",
    "    self.hidden = [(self._one_hidden(l), self._one_hidden(l)) for l in range(self.n_layers)]"
   ]
  },
  {
   "cell_type": "markdown",
   "metadata": {},
   "source": [
    "### Concat pooling\n",
    "We will use three things for the classification head of the model: the last hidden state, the average of all the hidden states and the maximum of all the hidden states. The trick is just to, once again, ignore the padding in the last element/average/maximum."
   ]
  },
  {
   "cell_type": "code",
   "execution_count": 53,
   "metadata": {},
   "outputs": [],
   "source": [
    "class Pooling(nn.Module):\n",
    "  def forward(self, input):\n",
    "    raw_outputs, outputs, mask = input\n",
    "    output = outputs[-1]\n",
    "    lengths = output.size(1) - mask.long().sum(dim=1)\n",
    "    avg_pool = output.masked_fill(mask[:, :, None], 0).sum(dim=1)\n",
    "    avg_pool.div_(lengths.type(avg_pool.dtype)[:, None])\n",
    "    max_pool = output.masked_fill(mask[:, :, None], -float('inf')).max(dim=1)[0]\n",
    "    x = torch.cat([output[torch.arange(0, output.size(0)), lengths - 1], max_pool, avg_pool], 1) # Concat pooling.\n",
    "    return output, x"
   ]
  },
  {
   "cell_type": "code",
   "execution_count": 54,
   "metadata": {},
   "outputs": [],
   "source": [
    "emb_sz = 300\n",
    "nh = 300\n",
    "nl = 2\n",
    "tok_pad = vocab.index(PAD)"
   ]
  },
  {
   "cell_type": "code",
   "execution_count": 55,
   "metadata": {},
   "outputs": [],
   "source": [
    "enc = AWD_LSTM1(len(vocab), emb_sz, n_hid=nh, n_layers=nl, pad_token=tok_pad)\n",
    "pool = Pooling()\n",
    "enc.bs = bs\n",
    "enc.reset()"
   ]
  },
  {
   "cell_type": "code",
   "execution_count": 56,
   "metadata": {},
   "outputs": [],
   "source": [
    "x, y = next(iter(data.train_dl))\n",
    "output, c = pool(enc(x))"
   ]
  },
  {
   "cell_type": "markdown",
   "metadata": {},
   "source": [
    "We can check we have padding with 1s at the end of each text (except the first which is the longest)."
   ]
  },
  {
   "cell_type": "code",
   "execution_count": 57,
   "metadata": {},
   "outputs": [
    {
     "data": {
      "text/plain": [
       "tensor([[    2,     7,  1165,  ..., 15280,    24,     3],\n",
       "        [    2,     7,   148,  ...,     1,     1,     1],\n",
       "        [    2,     7,  1330,  ...,     1,     1,     1],\n",
       "        ...,\n",
       "        [    2,     7,    63,  ...,     1,     1,     1],\n",
       "        [    2,    21,     7,  ...,     1,     1,     1],\n",
       "        [    2,     7,    64,  ...,     1,     1,     1]])"
      ]
     },
     "execution_count": 57,
     "metadata": {},
     "output_type": "execute_result"
    }
   ],
   "source": [
    "x"
   ]
  },
  {
   "cell_type": "markdown",
   "metadata": {},
   "source": [
    "PyTorch puts 0s everywhere we had padding in the `output` when unpacking."
   ]
  },
  {
   "cell_type": "code",
   "execution_count": 58,
   "metadata": {},
   "outputs": [],
   "source": [
    "test_near((output.sum(dim=2) == 0).float(), (x == tok_pad).float())"
   ]
  },
  {
   "cell_type": "markdown",
   "metadata": {},
   "source": [
    "So the last hidden state isn't the last element of `output`. Let's check we got everything right."
   ]
  },
  {
   "cell_type": "code",
   "execution_count": 59,
   "metadata": {},
   "outputs": [],
   "source": [
    "for i in range(bs):\n",
    "  length = x.size(1) - (x[i] == 1).long().sum()\n",
    "  out_unpad = output[i, : length]\n",
    "  test_near(out_unpad[-1], c[i, :300])\n",
    "  test_near(out_unpad.max(0)[0], c[i, 300: 600])\n",
    "  test_near(out_unpad.mean(0), c[i, 600:])"
   ]
  },
  {
   "cell_type": "markdown",
   "metadata": {},
   "source": [
    "Our pooling layer properly ignored the padding, so now let's group it with a classifier."
   ]
  },
  {
   "cell_type": "code",
   "execution_count": 60,
   "metadata": {},
   "outputs": [],
   "source": [
    "def bn_drop_lin(n_in, n_out, bn=True, p=0., actn=None):\n",
    "  layers = [nn.BatchNorm1d(n_in)] if bn else []\n",
    "  if p != 0:\n",
    "    layers.append(nn.Dropout(p))\n",
    "  layers.append(nn.Linear(n_in, n_out))\n",
    "  if actn is not None:\n",
    "    layers.append(actn)\n",
    "  return layers"
   ]
  },
  {
   "cell_type": "code",
   "execution_count": 70,
   "metadata": {},
   "outputs": [],
   "source": [
    "class PoolingLinearClassifier(nn.Module):\n",
    "  \"Create a linear classifier with pooling.\"\n",
    "  \n",
    "  def __init__(self, layers, drops):\n",
    "    super().__init__()\n",
    "    mod_layers = []\n",
    "    activs = [nn.ReLU(inplace=True)] * (len(layers) - 2) + [None]\n",
    "    for n_in, n_out, p, actn in zip(layers[:-1], layers[1:], drops, activs):\n",
    "      mod_layers += bn_drop_lin(n_in, n_out, p=p, actn=actn)\n",
    "    self.layers = nn.Sequential(*mod_layers)\n",
    "    \n",
    "  def forward(self, input):\n",
    "    raw_outputs, outputs, mask = input\n",
    "    output = outputs[-1]\n",
    "    lengths = output.size(1) - mask.long().sum(dim=1)\n",
    "    avg_pool = output.masked_fill(mask[:, :, None], 0).sum(dim=1)\n",
    "    avg_pool.div_(lengths.type(avg_pool.dtype)[:, None])\n",
    "    max_pool = output.masked_fill(mask[:, :, None], -float('inf')).max(dim=1)[0]\n",
    "    x = torch.cat([output[torch.arange(0, output.size(0)), lengths - 1], max_pool, avg_pool], 1) # Concat pooling.\n",
    "    x = self.layers(x)\n",
    "    return x"
   ]
  },
  {
   "cell_type": "markdown",
   "metadata": {},
   "source": [
    "Then we just have to feed our texts to those two blocks, (but we can't give them all at once to the AWD_LSTM or we might get OOM error: we'll go for chunks of bptt length to regularly detach the history of our hidden states.)"
   ]
  },
  {
   "cell_type": "code",
   "execution_count": 71,
   "metadata": {},
   "outputs": [],
   "source": [
    "def pad_tensor(t, bs, val=0.):\n",
    "  if t.size(0) < bs:\n",
    "    return torch.cat([t, val + t.new_zeros(bs - t.size(0), *t.shape[1:])])\n",
    "  return t"
   ]
  },
  {
   "cell_type": "code",
   "execution_count": 72,
   "metadata": {},
   "outputs": [],
   "source": [
    "class SentenceEncoder(nn.Module):\n",
    "  def __init__(self, module, bptt, pad_idx=1):\n",
    "    super().__init__()\n",
    "    self.bptt = bptt\n",
    "    self.module = module\n",
    "    self.pad_idx = pad_idx\n",
    "    \n",
    "  def concat(self, arrs, bs):\n",
    "    return [torch.cat([pad_tensor(l[si], bs) for l in arrs], dim=1) for si in range(len(arrs[0]))]\n",
    "  \n",
    "  def forward(self, input):\n",
    "    bs, sl = input.size()\n",
    "    self.module.bs = bs\n",
    "    self.module.reset()\n",
    "    raw_outputs, outputs, masks = [], [], []\n",
    "    for i in range(0, sl, self.bptt):\n",
    "      r, o, m = self.module(input[:, i: min(i + self.bptt, sl)])\n",
    "      masks.append(pad_tensor(m, bs, 1))\n",
    "      raw_outputs.append(r)\n",
    "      outputs.append(o)\n",
    "    return self.concat(raw_outputs, bs), self.concat(outputs, bs), torch.cat(masks, dim=1)"
   ]
  },
  {
   "cell_type": "code",
   "execution_count": 73,
   "metadata": {},
   "outputs": [],
   "source": [
    "def get_text_classifier(vocab_sz,\n",
    "                        emb_sz,\n",
    "                        n_hid,\n",
    "                        n_layers,\n",
    "                        n_out,\n",
    "                        pad_token,\n",
    "                        bptt,\n",
    "                        output_p=0.4,\n",
    "                        hidden_p=0.2,\n",
    "                        input_p=0.6,\n",
    "                        embed_p=0.1,\n",
    "                        weight_p=0.5,\n",
    "                        layers=None,\n",
    "                        drops=None):\n",
    "  \"To create a full AWD-LSTM\"\n",
    "  rnn_enc = AWD_LSTM1(vocab_sz,\n",
    "                      emb_sz,\n",
    "                      n_hid=n_hid,\n",
    "                      n_layers=n_layers,\n",
    "                      pad_token=pad_token,\n",
    "                      hidden_p=hidden_p,\n",
    "                      input_p=input_p,\n",
    "                      embed_p=embed_p,\n",
    "                      weight_p=weight_p)\n",
    "  enc = SentenceEncoder(rnn_enc, bptt)\n",
    "  if layers is None:\n",
    "    layers = [50]\n",
    "  if drops is None:\n",
    "    drops = [0.1] * len(layers)\n",
    "  layers = [3 * emb_sz] + layers + [n_out]\n",
    "  drops = [output_p] + drops\n",
    "  return SequentialRNN(enc, PoolingLinearClassifier(layers, drops))"
   ]
  },
  {
   "cell_type": "code",
   "execution_count": 74,
   "metadata": {},
   "outputs": [],
   "source": [
    "emb_sz = 300\n",
    "nh = 300\n",
    "nl = 2\n",
    "dps = tensor([0.4, 0.3, 0.4, 0.05, 0.5]) * 0.25\n",
    "model = get_text_classifier(len(vocab), emb_sz, nh, nl, 2, 1, bptt, *dps)"
   ]
  },
  {
   "cell_type": "code",
   "execution_count": 83,
   "metadata": {},
   "outputs": [
    {
     "data": {
      "text/plain": [
       "SequentialRNN(\n",
       "  (0): SentenceEncoder(\n",
       "    (module): AWD_LSTM1(\n",
       "      (emb): Embedding(60003, 300, padding_idx=1)\n",
       "      (emb_dp): EmbeddingDropout(\n",
       "        (emb): Embedding(60003, 300, padding_idx=1)\n",
       "      )\n",
       "      (rnns): ModuleList(\n",
       "        (0): WeightDropout(\n",
       "          (module): LSTM(300, 300, batch_first=True)\n",
       "        )\n",
       "        (1): WeightDropout(\n",
       "          (module): LSTM(300, 300, batch_first=True)\n",
       "        )\n",
       "      )\n",
       "      (input_dp): RNNDropout()\n",
       "      (hidden_dps): ModuleList(\n",
       "        (0): RNNDropout()\n",
       "        (1): RNNDropout()\n",
       "      )\n",
       "    )\n",
       "  )\n",
       "  (1): PoolingLinearClassifier(\n",
       "    (layers): Sequential(\n",
       "      (0): BatchNorm1d(900, eps=1e-05, momentum=0.1, affine=True, track_running_stats=True)\n",
       "      (1): Dropout(p=0.10000000149011612, inplace=False)\n",
       "      (2): Linear(in_features=900, out_features=50, bias=True)\n",
       "      (3): ReLU(inplace=True)\n",
       "      (4): BatchNorm1d(50, eps=1e-05, momentum=0.1, affine=True, track_running_stats=True)\n",
       "      (5): Dropout(p=0.1, inplace=False)\n",
       "      (6): Linear(in_features=50, out_features=2, bias=True)\n",
       "    )\n",
       "  )\n",
       ")"
      ]
     },
     "execution_count": 83,
     "metadata": {},
     "output_type": "execute_result"
    }
   ],
   "source": [
    "model"
   ]
  },
  {
   "cell_type": "markdown",
   "metadata": {},
   "source": [
    "### Training\n",
    "We load our pretrained encoder and freeze it."
   ]
  },
  {
   "cell_type": "code",
   "execution_count": 75,
   "metadata": {},
   "outputs": [],
   "source": [
    "def class_splitter(m):\n",
    "  enc = m[0].module\n",
    "  groups = [nn.Sequential(enc.emb, enc.emb_dp, enc.input_dp)]\n",
    "  for i in range(len(enc.rnns)):\n",
    "    groups.append(nn.Sequential(enc.rnns[i], enc.hidden_dps[i]))\n",
    "  groups.append(m[1])\n",
    "  return [list(o.parameters()) for o in groups]"
   ]
  },
  {
   "cell_type": "code",
   "execution_count": 77,
   "metadata": {},
   "outputs": [],
   "source": [
    "for p in model[0].parameters():\n",
    "  p.requires_grad_(False)"
   ]
  },
  {
   "cell_type": "code",
   "execution_count": 78,
   "metadata": {},
   "outputs": [],
   "source": [
    "device = torch.device('cuda', 0) if torch.cuda.is_available else torch.device('cpu')\n",
    "\n",
    "cbs = [partial(AvgStatsCallback, accuracy_flat),\n",
    "       partial(CudaCallback, device=device),\n",
    "       Recorder,\n",
    "       partial(GradientClipping, clip=0.1),\n",
    "       ProgressCallback]"
   ]
  },
  {
   "cell_type": "code",
   "execution_count": null,
   "metadata": {},
   "outputs": [],
   "source": [
    "model[0].module.load_state_dict(torch.load(path/'finetuned_enc.pth'))"
   ]
  },
  {
   "cell_type": "code",
   "execution_count": 79,
   "metadata": {},
   "outputs": [],
   "source": [
    "learn = Learner(model, data, F.cross_entropy, opt_func=adam_opt(), cb_funcs=cbs, splitter=class_splitter)"
   ]
  },
  {
   "cell_type": "code",
   "execution_count": 80,
   "metadata": {},
   "outputs": [],
   "source": [
    "lr = 1e-2\n",
    "cbsched = sched_1cycle([lr], mom_start=0.8, mom_mid=0.7, mom_end=0.8)"
   ]
  },
  {
   "cell_type": "code",
   "execution_count": null,
   "metadata": {},
   "outputs": [],
   "source": [
    "learn.fit(1, cbs=cbsched)"
   ]
  },
  {
   "cell_type": "code",
   "execution_count": 81,
   "metadata": {},
   "outputs": [],
   "source": [
    "for p in model[0].module.rnns[-1].parameters():\n",
    "  p.requires_grad_(True)"
   ]
  },
  {
   "cell_type": "code",
   "execution_count": 82,
   "metadata": {},
   "outputs": [],
   "source": [
    "lr = 5e-3\n",
    "cbsched = sched_1cycle([lr/2., lr/2., lr/2., lr], mom_start=0.8, mom_mid=0.7, mom_end=0.8)"
   ]
  },
  {
   "cell_type": "code",
   "execution_count": null,
   "metadata": {},
   "outputs": [],
   "source": [
    "learn.fit(1, cbs=cbsched)"
   ]
  },
  {
   "cell_type": "code",
   "execution_count": 85,
   "metadata": {},
   "outputs": [],
   "source": [
    "for p in model[0].parameters():\n",
    "  p.requires_grad_(True)"
   ]
  },
  {
   "cell_type": "code",
   "execution_count": 86,
   "metadata": {},
   "outputs": [],
   "source": [
    "lr = 1e-3\n",
    "cbsched = sched_1cycle([lr/8., lr/4., lr/2., lr], mom_start=0.8, mom_mid=0.7, mom_end=0.8)"
   ]
  },
  {
   "cell_type": "code",
   "execution_count": null,
   "metadata": {},
   "outputs": [],
   "source": [
    "learn.fit(2, cbs=cbsched)"
   ]
  },
  {
   "cell_type": "code",
   "execution_count": 87,
   "metadata": {},
   "outputs": [],
   "source": [
    "x, y = next(iter(data.valid_dl))"
   ]
  },
  {
   "cell_type": "markdown",
   "metadata": {},
   "source": [
    "Predicting on the padded batch or on the individual unpadded samples give the same results."
   ]
  },
  {
   "cell_type": "code",
   "execution_count": null,
   "metadata": {},
   "outputs": [],
   "source": [
    "pred_batch = learn.model.eval()(x.cuda())"
   ]
  },
  {
   "cell_type": "code",
   "execution_count": null,
   "metadata": {},
   "outputs": [],
   "source": [
    "pred_ind = []\n",
    "for inp in x:\n",
    "  length = x.size(1) - (inp == 1).long().sum()\n",
    "  inp = inp[: length]\n",
    "  pred_ind.append(learn.model.eval()(inp[None].cuda()))"
   ]
  },
  {
   "cell_type": "code",
   "execution_count": null,
   "metadata": {},
   "outputs": [],
   "source": [
    "assert near(pred_batch, torch.cat(pred_ind))"
   ]
  }
 ],
 "metadata": {
  "kernelspec": {
   "display_name": "Torch Env",
   "language": "python",
   "name": "torch_env"
  },
  "language_info": {
   "codemirror_mode": {
    "name": "ipython",
    "version": 3
   },
   "file_extension": ".py",
   "mimetype": "text/x-python",
   "name": "python",
   "nbconvert_exporter": "python",
   "pygments_lexer": "ipython3",
   "version": "3.6.9"
  }
 },
 "nbformat": 4,
 "nbformat_minor": 4
}

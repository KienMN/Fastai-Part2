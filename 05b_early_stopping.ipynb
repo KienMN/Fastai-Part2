{
 "cells": [
  {
   "cell_type": "code",
   "execution_count": 1,
   "metadata": {},
   "outputs": [],
   "source": [
    "%load_ext autoreload\n",
    "%autoreload 2"
   ]
  },
  {
   "cell_type": "code",
   "execution_count": 2,
   "metadata": {},
   "outputs": [],
   "source": [
    "#export\n",
    "from exp.nb_05 import *"
   ]
  },
  {
   "cell_type": "markdown",
   "metadata": {},
   "source": [
    "## Early stopping\n",
    "### Better callback cancellation"
   ]
  },
  {
   "cell_type": "code",
   "execution_count": 3,
   "metadata": {},
   "outputs": [],
   "source": [
    "x_train, y_train, x_valid, y_valid = get_mnist_data()\n",
    "train_ds, valid_ds = Dataset(x_train, y_train), Dataset(x_valid, y_valid)\n",
    "nh, bs = 50, 512\n",
    "c = y_train.max().item() + 1\n",
    "loss_func = F.cross_entropy"
   ]
  },
  {
   "cell_type": "code",
   "execution_count": 4,
   "metadata": {},
   "outputs": [],
   "source": [
    "data = DataBunch(*get_dls(train_ds, valid_ds, bs), c)"
   ]
  },
  {
   "cell_type": "code",
   "execution_count": 5,
   "metadata": {},
   "outputs": [],
   "source": [
    "#export\n",
    "class Callback():\n",
    "  _order = 0\n",
    "  def set_runner(self, run):\n",
    "    self.run = run\n",
    "    \n",
    "  def __getattr__(self, k):\n",
    "    return getattr(self.run, k)\n",
    "  \n",
    "  @property\n",
    "  def name(self):\n",
    "    name = re.sub(r'Callback$', '', self.__class__.__name__)\n",
    "    return camel2snake(name or 'callback')\n",
    "  \n",
    "  def __call__(self, cb_name):\n",
    "    f = getattr(self, cb_name, None)\n",
    "    if f and f():\n",
    "      return True\n",
    "    return False\n",
    "  \n",
    "class TrainEvalCallback(Callback):\n",
    "  def begin_fit(self):\n",
    "    self.run.n_epochs = 0.\n",
    "    self.run.n_iter = 0\n",
    "    \n",
    "  def after_batch(self):\n",
    "    if not self.in_train:\n",
    "      return\n",
    "    self.run.n_epochs += 1. / self.iters\n",
    "    self.run.n_iter += 1\n",
    "    \n",
    "  def begin_epoch(self):\n",
    "    self.run.n_epochs = self.epoch\n",
    "    self.model.train()\n",
    "    self.run.in_train = True\n",
    "    \n",
    "  def begin_validate(self):\n",
    "    self.model.eval()\n",
    "    self.run.in_train = False\n",
    "    \n",
    "class CancelTrainException(Exception):\n",
    "  pass\n",
    "\n",
    "class CancelEpochException(Exception):\n",
    "  pass\n",
    "\n",
    "class CancelBatchException(Exception):\n",
    "  pass"
   ]
  },
  {
   "cell_type": "code",
   "execution_count": 6,
   "metadata": {},
   "outputs": [],
   "source": [
    "#export\n",
    "class Runner():\n",
    "  def __init__(self, cbs=None, cb_funcs=None):\n",
    "    self.in_train = False\n",
    "    cbs = listify(cbs)\n",
    "    for cbf in listify(cb_funcs):\n",
    "      cb = cbf()\n",
    "      setattr(self, cb.name, cb)\n",
    "      cbs.append(cb)\n",
    "    self.stop = False\n",
    "    self.cbs = [TrainEvalCallback()] + cbs\n",
    "    \n",
    "  @property\n",
    "  def opt(self):\n",
    "    return self.learn.opt\n",
    "  \n",
    "  @property\n",
    "  def model(self):\n",
    "    return self.learn.model\n",
    "  \n",
    "  @property\n",
    "  def loss_func(self):\n",
    "    return self.learn.loss_func\n",
    "  \n",
    "  @property\n",
    "  def data(self):\n",
    "    return self.learn.data\n",
    "  \n",
    "  def one_batch(self, xb, yb):\n",
    "    try:\n",
    "      self.xb = xb\n",
    "      self.yb = yb\n",
    "      self('begin_batch')\n",
    "      self.pred = self.model(self.xb)\n",
    "      self('after_pred')\n",
    "      self.loss = self.loss_func(self.pred, self.yb)\n",
    "      self('after_loss')\n",
    "      if not self.in_train:\n",
    "        return\n",
    "      self.loss.backward()\n",
    "      self('after_backward')\n",
    "      self.opt.step()\n",
    "      self('after_step')\n",
    "      self.opt.zero_grad()\n",
    "    except CancelBatchException:\n",
    "      self('after_cancel_batch')\n",
    "    finally:\n",
    "      self('after_batch')\n",
    "  \n",
    "  def all_batches(self, dl):\n",
    "    self.iters = len(dl)\n",
    "    try:\n",
    "      for xb, yb in dl:\n",
    "        self.one_batch(xb, yb)\n",
    "    except CancelEpochException:\n",
    "      self('after_cancel_epoch')\n",
    "      \n",
    "  def fit(self, epochs, learn):\n",
    "    self.epochs = epochs\n",
    "    self.learn = learn\n",
    "    self.loss = tensor(0.)\n",
    "    \n",
    "    try:\n",
    "      for cb in self.cbs:\n",
    "        cb.set_runner(self)\n",
    "      self('begin_fit')\n",
    "      for epoch in range(self.epochs):\n",
    "        self.epoch = epoch\n",
    "        if not self('begin_epoch'):\n",
    "          self.all_batches(self.data.train_dl)\n",
    "        with torch.no_grad():\n",
    "          if not self('begin_validate'):\n",
    "            self.all_batches(self.data.valid_dl)\n",
    "        self('after_epoch')\n",
    "    except CancelTrainException:\n",
    "      self('after_cancel_train')\n",
    "    finally:\n",
    "      self('after_fit')\n",
    "#       self.learn = None\n",
    "\n",
    "  def __call__(self, cb_name):\n",
    "    res = False\n",
    "    for cb in sorted(self.cbs, key= lambda x: x._order):\n",
    "      res = cb(cb_name) or res\n",
    "    return res"
   ]
  },
  {
   "cell_type": "code",
   "execution_count": 7,
   "metadata": {},
   "outputs": [],
   "source": [
    "learn = create_learner(get_model, loss_func, data)"
   ]
  },
  {
   "cell_type": "code",
   "execution_count": 8,
   "metadata": {},
   "outputs": [],
   "source": [
    "class TestCallback(Callback):\n",
    "  _order = 1\n",
    "  def after_step(self):\n",
    "    print(self.n_iter)\n",
    "    if self.n_iter >= 10:\n",
    "      raise CancelTrainException()"
   ]
  },
  {
   "cell_type": "code",
   "execution_count": 9,
   "metadata": {},
   "outputs": [],
   "source": [
    "run = Runner(cb_funcs=TestCallback)"
   ]
  },
  {
   "cell_type": "code",
   "execution_count": 10,
   "metadata": {},
   "outputs": [
    {
     "name": "stdout",
     "output_type": "stream",
     "text": [
      "0\n",
      "1\n",
      "2\n",
      "3\n",
      "4\n",
      "5\n",
      "6\n",
      "7\n",
      "8\n",
      "9\n",
      "10\n"
     ]
    }
   ],
   "source": [
    "run.fit(3, learn)"
   ]
  },
  {
   "cell_type": "markdown",
   "metadata": {},
   "source": [
    "### Other callbacks"
   ]
  },
  {
   "cell_type": "code",
   "execution_count": 11,
   "metadata": {},
   "outputs": [],
   "source": [
    "#export\n",
    "class AvgStatsCallback(Callback):\n",
    "  def __init__(self, metrics):\n",
    "    self.train_stats = AvgStats(metrics, in_train=True)\n",
    "    self.valid_stats = AvgStats(metrics, in_train=False)\n",
    "    \n",
    "  def begin_epoch(self):\n",
    "    self.train_stats.reset()\n",
    "    self.valid_stats.reset()\n",
    "    \n",
    "  def after_loss(self):\n",
    "    stats = self.train_stats if self.in_train else self.valid_stats\n",
    "    with torch.no_grad():\n",
    "      stats.accumulate(self.run)\n",
    "      \n",
    "  def after_epoch(self):\n",
    "    print(self.train_stats)\n",
    "    print(self.valid_stats)\n",
    "    \n",
    "class Recorder(Callback):\n",
    "  def begin_fit(self):\n",
    "    self.lrs = [[] for _ in self.opt.param_groups]\n",
    "    self.losses = []\n",
    "    \n",
    "  def after_batch(self):\n",
    "    if not self.in_train:\n",
    "      return\n",
    "    for pg, lr in zip(self.opt.param_groups, self.lrs):\n",
    "      lr.append(pg['lr'])\n",
    "    self.losses.append(self.loss.detach().cpu())\n",
    "    \n",
    "  def plot_lr(self, pgid=-1):\n",
    "    plt.plot(self.lrs[pgid]);\n",
    "    \n",
    "  def plot_loss(self, skip_last=0):\n",
    "    plt.plot(self.losses[:len(self.losses) - skip_last])\n",
    "    \n",
    "  def plot(self, skip_last=0, pgid=-1):\n",
    "    losses = [o.item() for o in self.losses]\n",
    "    lrs = self.lrs[pgid]\n",
    "    n = len(losses) - skip_last\n",
    "    plt.xscale('log')\n",
    "    plt.plot(lrs[:n], losses[:n])\n",
    "    \n",
    "class ParamScheduler(Callback):\n",
    "  _order = 1\n",
    "  def __init__(self, pname, sched_funcs):\n",
    "    self.pname = pname\n",
    "    self.sched_funcs = sched_funcs\n",
    "    \n",
    "  def begin_fit(self):\n",
    "    if not isinstance(self.sched_funcs, (list, tuple)):\n",
    "      self.sched_funcs = [self.sched_funcs] * len(self.opt.param_groups)\n",
    "      \n",
    "  def set_param(self):\n",
    "    assert len(self.opt.param_groups) == len(self.sched_funcs)\n",
    "    for pg, f in zip(self.opt.param_groups, self.sched_funcs):\n",
    "      pg[self.pname] = f(self.n_epochs / self.epochs)\n",
    "      \n",
    "  def begin_batch(self):\n",
    "    if self.in_train:\n",
    "      self.set_param()"
   ]
  },
  {
   "cell_type": "markdown",
   "metadata": {},
   "source": [
    "### LR Finder"
   ]
  },
  {
   "cell_type": "markdown",
   "metadata": {},
   "source": [
    "NB: You may want to also add something that saves the model before running this, and loads it back after running - otherwises you will lose your weights"
   ]
  },
  {
   "cell_type": "code",
   "execution_count": 12,
   "metadata": {},
   "outputs": [],
   "source": [
    "class LR_Find(Callback):\n",
    "  _order = 1\n",
    "  def __init__(self, max_iter=100, min_lr=1e-6, max_lr=10):\n",
    "    self.max_iter = max_iter\n",
    "    self.min_lr = min_lr\n",
    "    self.max_lr = max_lr\n",
    "    self.best_loss = 1e9\n",
    "    \n",
    "  def begin_batch(self):\n",
    "    if not self.in_train:\n",
    "      return\n",
    "    pos = self.n_iter / self.max_iter\n",
    "    lr = self.min_lr * (self.max_lr / self.min_lr) ** pos\n",
    "    for pg in self.opt.param_groups:\n",
    "      pg['lr'] = lr\n",
    "      \n",
    "  def after_step(self):\n",
    "    if self.n_iter >= self.max_iter or self.loss > self.best_loss * 10:\n",
    "      raise CancelTrainException()\n",
    "    if self.loss < self.best_loss:\n",
    "      self.best_loss = self.loss"
   ]
  },
  {
   "cell_type": "markdown",
   "metadata": {},
   "source": [
    "NB: In fastai we also yse exponential smoothing on the loss. For that reason we check for `best_loss * 3` instead of `best_loss * 10`"
   ]
  },
  {
   "cell_type": "code",
   "execution_count": 13,
   "metadata": {},
   "outputs": [],
   "source": [
    "learn = create_learner(get_model, loss_func, data)"
   ]
  },
  {
   "cell_type": "code",
   "execution_count": 14,
   "metadata": {},
   "outputs": [],
   "source": [
    "run = Runner(cb_funcs=[LR_Find, Recorder])"
   ]
  },
  {
   "cell_type": "code",
   "execution_count": 15,
   "metadata": {},
   "outputs": [],
   "source": [
    "run.fit(2, learn)"
   ]
  },
  {
   "cell_type": "code",
   "execution_count": 16,
   "metadata": {},
   "outputs": [
    {
     "data": {
      "image/png": "[encoded data removed]",
      "text/plain": [
       "<Figure size 432x288 with 1 Axes>"
      ]
     },
     "metadata": {
      "needs_background": "light"
     },
     "output_type": "display_data"
    }
   ],
   "source": [
    "run.recorder.plot(skip_last=5)"
   ]
  },
  {
   "cell_type": "code",
   "execution_count": 17,
   "metadata": {},
   "outputs": [
    {
     "data": {
      "image/png": "[encoded data removed]",
      "text/plain": [
       "<Figure size 432x288 with 1 Axes>"
      ]
     },
     "metadata": {
      "needs_background": "light"
     },
     "output_type": "display_data"
    }
   ],
   "source": [
    "run.recorder.plot_lr()"
   ]
  },
  {
   "cell_type": "markdown",
   "metadata": {},
   "source": [
    "## Export"
   ]
  },
  {
   "cell_type": "code",
   "execution_count": 18,
   "metadata": {},
   "outputs": [
    {
     "name": "stdout",
     "output_type": "stream",
     "text": [
      "Converted 05b_early_stopping.ipynb to nb_05b.py\n"
     ]
    }
   ],
   "source": [
    "!python notebook2script.py 05b_early_stopping.ipynb"
   ]
  }
 ],
 "metadata": {
  "kernelspec": {
   "display_name": "Torch Env",
   "language": "python",
   "name": "torch_env"
  },
  "language_info": {
   "codemirror_mode": {
    "name": "ipython",
    "version": 3
   },
   "file_extension": ".py",
   "mimetype": "text/x-python",
   "name": "python",
   "nbconvert_exporter": "python",
   "pygments_lexer": "ipython3",
   "version": "3.6.9"
  }
 },
 "nbformat": 4,
 "nbformat_minor": 4
}

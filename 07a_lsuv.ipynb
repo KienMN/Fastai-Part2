{
 "cells": [
  {
   "cell_type": "code",
   "execution_count": null,
   "metadata": {},
   "outputs": [],
   "source": [
    "%load_ext autoreload\n",
    "%autoreload 2"
   ]
  },
  {
   "cell_type": "code",
   "execution_count": 2,
   "metadata": {},
   "outputs": [],
   "source": [
    "#export\n",
    "from exp.nb_07 import *"
   ]
  },
  {
   "cell_type": "markdown",
   "metadata": {},
   "source": [
    "## Layerwise Sequenctial Unit Variance (LSUV)\n",
    "Getting the MNIST data and a CNN"
   ]
  },
  {
   "cell_type": "code",
   "execution_count": 3,
   "metadata": {},
   "outputs": [],
   "source": [
    "x_train, y_train, x_valid, y_valid = get_mnist_data()\n",
    "\n",
    "x_train, x_valid = normalize_to(x_train, x_valid)\n",
    "train_ds, valid_ds = Dataset(x_train, y_train), Dataset(x_valid, y_valid)\n",
    "\n",
    "nh, bs = 50, 512\n",
    "c = y_train.max().item() + 1\n",
    "loss_func = F.cross_entropy\n",
    "\n",
    "data = DataBunch(*get_dls(train_ds, valid_ds, bs), c)"
   ]
  },
  {
   "cell_type": "code",
   "execution_count": 4,
   "metadata": {},
   "outputs": [
    {
     "name": "stdout",
     "output_type": "stream",
     "text": [
      "cuda:0\n"
     ]
    }
   ],
   "source": [
    "mnist_view = view_tfm(1, 28, 28)\n",
    "\n",
    "device = torch.device('cuda', 0) if torch.cuda.is_available else torch.device('cpu')\n",
    "print(device)\n",
    "\n",
    "cbfs = [Recorder,\n",
    "        partial(AvgStatsCallback, accuracy),\n",
    "        partial(CudaCallback, device),\n",
    "        partial(BatchTransformXCallback, mnist_view)]"
   ]
  },
  {
   "cell_type": "code",
   "execution_count": 5,
   "metadata": {},
   "outputs": [],
   "source": [
    "nfs = [8, 16, 32, 64, 64]"
   ]
  },
  {
   "cell_type": "code",
   "execution_count": 6,
   "metadata": {},
   "outputs": [],
   "source": [
    "class ConvLayer(nn.Module):\n",
    "  def __init__(self, ni, nf, ks=3, stride=2, sub=0., **kwargs):\n",
    "    super().__init__()\n",
    "    self.conv = nn.Conv2d(ni, nf, ks, padding=ks//2, stride=stride, bias=True)\n",
    "    self.relu = GeneralReLU(sub=sub, **kwargs)\n",
    "    \n",
    "  def forward(self, x):\n",
    "    return self.relu(self.conv(x))\n",
    "  \n",
    "  @property\n",
    "  def bias(self):\n",
    "    return - self.relu.sub\n",
    "  \n",
    "  @bias.setter\n",
    "  def bias(self, v):\n",
    "    self.relu.sub = -v\n",
    "    \n",
    "  @property\n",
    "  def weight(self):\n",
    "    return self.conv.weight"
   ]
  },
  {
   "cell_type": "code",
   "execution_count": 7,
   "metadata": {},
   "outputs": [],
   "source": [
    "learn, run = get_learn_run(nfs, data, lr=0.6, layer=ConvLayer, cbs=cbfs)"
   ]
  },
  {
   "cell_type": "markdown",
   "metadata": {},
   "source": [
    "Now we're going to look at the paper [All You Need is a Good Init](https://arxiv.org/pdf/1511.06422.pdf), which introduces *Layer-wise Sequential Unit-Variance* (*LSUV*). We initialize our neural net with the usual technique, then we pass a batch through the model and check the outputs of the linear and convolutional layers. We can then rescale the weights according to the actual variance we observe on the activations, and subtract the mean we observe from the initial bias. That way we will have activations that stay normalized\n",
    "\n",
    "We repeat this process until we are satisfied with the mean/variance we observe.\n",
    "\n",
    "Let's start by looking at a baseline:"
   ]
  },
  {
   "cell_type": "code",
   "execution_count": 8,
   "metadata": {},
   "outputs": [
    {
     "name": "stdout",
     "output_type": "stream",
     "text": [
      "train: [2.30139375, tensor(0.1652, device='cuda:0')]\n",
      "valid: [1.6644787109375, tensor(0.3890, device='cuda:0')]\n",
      "train: [1.5066678125, tensor(0.4475, device='cuda:0')]\n",
      "valid: [0.44689287109375, tensor(0.8668, device='cuda:0')]\n"
     ]
    }
   ],
   "source": [
    "run.fit(2, learn)"
   ]
  },
  {
   "cell_type": "markdown",
   "metadata": {},
   "source": [
    "Now we recreate our model and we'll try again with LSUV. Hopefully, we'll get better results!"
   ]
  },
  {
   "cell_type": "code",
   "execution_count": 9,
   "metadata": {},
   "outputs": [],
   "source": [
    "learn, run = get_learn_run(nfs, data, 0.6, ConvLayer, cbs=cbfs)"
   ]
  },
  {
   "cell_type": "markdown",
   "metadata": {},
   "source": [
    "Helper function to get one batch of a given dataloader, with the callbacks called to preprocess it."
   ]
  },
  {
   "cell_type": "code",
   "execution_count": 10,
   "metadata": {},
   "outputs": [],
   "source": [
    "#export\n",
    "def get_batch(dl, run):\n",
    "  run.xb, run.yb = next(iter(dl))\n",
    "  for cb in run.cbs:\n",
    "    cb.set_runner(run)\n",
    "  run('begin_batch')\n",
    "  return run.xb, run.yb"
   ]
  },
  {
   "cell_type": "code",
   "execution_count": 11,
   "metadata": {},
   "outputs": [],
   "source": [
    "xb, yb = get_batch(data.train_dl, run)"
   ]
  },
  {
   "cell_type": "markdown",
   "metadata": {},
   "source": [
    "We only want the outputs of convolutional or linear layers. To find them, we need a recursive function. We can use `sum(list, [])` to concatenate the lists the function finds (`sum` applies the + operate between the elements of the list you pass it, beginning with the initial state in the second argument)."
   ]
  },
  {
   "cell_type": "code",
   "execution_count": 12,
   "metadata": {},
   "outputs": [],
   "source": [
    "#export\n",
    "def find_modules(m, cond):\n",
    "  if cond(m):\n",
    "    return [m]\n",
    "  return sum([find_modules(o, cond) for o in m.children()], [])\n",
    "\n",
    "def is_lin_layer(l):\n",
    "  lin_layers = (nn.Conv1d, nn.Conv2d, nn.Conv3d, nn.Linear, nn.ReLU)\n",
    "  return isinstance(l, lin_layers)"
   ]
  },
  {
   "cell_type": "code",
   "execution_count": 13,
   "metadata": {},
   "outputs": [
    {
     "data": {
      "text/plain": [
       "[ConvLayer(\n",
       "   (conv): Conv2d(1, 8, kernel_size=(5, 5), stride=(2, 2), padding=(2, 2))\n",
       "   (relu): GeneralReLU()\n",
       " ),\n",
       " ConvLayer(\n",
       "   (conv): Conv2d(8, 16, kernel_size=(3, 3), stride=(2, 2), padding=(1, 1))\n",
       "   (relu): GeneralReLU()\n",
       " ),\n",
       " ConvLayer(\n",
       "   (conv): Conv2d(16, 32, kernel_size=(3, 3), stride=(2, 2), padding=(1, 1))\n",
       "   (relu): GeneralReLU()\n",
       " ),\n",
       " ConvLayer(\n",
       "   (conv): Conv2d(32, 64, kernel_size=(3, 3), stride=(2, 2), padding=(1, 1))\n",
       "   (relu): GeneralReLU()\n",
       " ),\n",
       " ConvLayer(\n",
       "   (conv): Conv2d(64, 64, kernel_size=(3, 3), stride=(2, 2), padding=(1, 1))\n",
       "   (relu): GeneralReLU()\n",
       " )]"
      ]
     },
     "execution_count": 13,
     "metadata": {},
     "output_type": "execute_result"
    }
   ],
   "source": [
    "mods = find_modules(learn.model, lambda o: isinstance(o, ConvLayer))\n",
    "mods"
   ]
  },
  {
   "cell_type": "markdown",
   "metadata": {},
   "source": [
    "This is a helper function to grab the mean and std of the output of a hooked layer."
   ]
  },
  {
   "cell_type": "code",
   "execution_count": 14,
   "metadata": {},
   "outputs": [],
   "source": [
    "def append_stat(hook, mod, inp, outp):\n",
    "  d = outp.data\n",
    "  hook.mean = d.mean().item()\n",
    "  hook.std = d.std().item()"
   ]
  },
  {
   "cell_type": "code",
   "execution_count": 15,
   "metadata": {},
   "outputs": [],
   "source": [
    "device = torch.device('cuda', 0) if torch.cuda.is_available else torch.device('cpu')\n",
    "mdl = learn.model.to(device)"
   ]
  },
  {
   "cell_type": "markdown",
   "metadata": {},
   "source": [
    "So now we can look at the mean and std of the conv layers of our model."
   ]
  },
  {
   "cell_type": "code",
   "execution_count": 16,
   "metadata": {},
   "outputs": [
    {
     "name": "stdout",
     "output_type": "stream",
     "text": [
      "0.19760100543498993 0.32771408557891846\n",
      "0.07450263202190399 0.12166350334882736\n",
      "0.03472357243299484 0.0550089068710804\n",
      "0.024658890441060066 0.03108115680515766\n",
      "0.010263403877615929 0.014492860995233059\n"
     ]
    }
   ],
   "source": [
    "with Hooks(mods, append_stat) as hooks:\n",
    "  mdl(xb)\n",
    "  for hook in hooks:\n",
    "    print(hook.mean, hook.std)"
   ]
  },
  {
   "cell_type": "markdown",
   "metadata": {},
   "source": [
    "We first adjust the bias terms to make the means 0, then we adjust the standard deviations to make the stds 1 (with a threshold of 1e-3). The `mdl(xb) is not None` clause is just there to pass `xb` through `mdl` and compute all the activations so that the hooks get updated."
   ]
  },
  {
   "cell_type": "code",
   "execution_count": 17,
   "metadata": {},
   "outputs": [],
   "source": [
    "#export\n",
    "def lsuv_module(m, xb):\n",
    "  h = Hook(m, append_stat)\n",
    "  \n",
    "  while mdl(xb) is not None and abs(h.mean) > 1e-3:\n",
    "    m.bias -= h.mean\n",
    "  while mdl(xb) is not None and abs(h.std - 1) > 1e-3:\n",
    "    m.weight.data /= h.std\n",
    "    \n",
    "  h.remove()\n",
    "  return h.mean, h.std"
   ]
  },
  {
   "cell_type": "code",
   "execution_count": 18,
   "metadata": {},
   "outputs": [
    {
     "name": "stdout",
     "output_type": "stream",
     "text": [
      "(0.3027128577232361, 0.999974250793457)\n",
      "(0.3601396977901459, 1.0002014636993408)\n",
      "(0.3490963876247406, 0.9999998807907104)\n",
      "(0.4014589190483093, 0.999965488910675)\n",
      "(0.5185941457748413, 0.9995793104171753)\n"
     ]
    }
   ],
   "source": [
    "for m in mods:\n",
    "  print(lsuv_module(m, xb))"
   ]
  },
  {
   "cell_type": "markdown",
   "metadata": {},
   "source": [
    "Note that, the mean doesn't exactly stay at 0, since we change the standard deviation after by scaling the weight.\n",
    "Then training is beginning on better grounds."
   ]
  },
  {
   "cell_type": "code",
   "execution_count": 19,
   "metadata": {},
   "outputs": [
    {
     "name": "stdout",
     "output_type": "stream",
     "text": [
      "train: [0.679314609375, tensor(0.7858, device='cuda:0')]\n",
      "valid: [0.145125341796875, tensor(0.9569, device='cuda:0')]\n",
      "train: [0.1206329296875, tensor(0.9626, device='cuda:0')]\n",
      "valid: [0.09196317138671875, tensor(0.9733, device='cuda:0')]\n",
      "CPU times: user 3.49 s, sys: 3.45 ms, total: 3.49 s\n",
      "Wall time: 3.47 s\n"
     ]
    }
   ],
   "source": [
    "%time run.fit(2, learn)"
   ]
  },
  {
   "cell_type": "markdown",
   "metadata": {},
   "source": [
    "LSUV is particularly useful for more complex and deeper architectures that are hard to initialize to get unit variance at the last layer."
   ]
  },
  {
   "cell_type": "markdown",
   "metadata": {},
   "source": [
    "## Export"
   ]
  },
  {
   "cell_type": "code",
   "execution_count": 20,
   "metadata": {},
   "outputs": [
    {
     "name": "stdout",
     "output_type": "stream",
     "text": [
      "Converted 07a_lsuv.ipynb to nb_07a.py\n"
     ]
    }
   ],
   "source": [
    "!python notebook2script.py 07a_lsuv.ipynb"
   ]
  }
 ],
 "metadata": {
  "kernelspec": {
   "display_name": "Torch Env",
   "language": "python",
   "name": "torch_env"
  },
  "language_info": {
   "codemirror_mode": {
    "name": "ipython",
    "version": 3
   },
   "file_extension": ".py",
   "mimetype": "text/x-python",
   "name": "python",
   "nbconvert_exporter": "python",
   "pygments_lexer": "ipython3",
   "version": "3.6.9"
  }
 },
 "nbformat": 4,
 "nbformat_minor": 4
}
